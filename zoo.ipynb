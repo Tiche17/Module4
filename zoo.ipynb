{
 "cells": [
  {
   "cell_type": "code",
   "execution_count": null,
   "metadata": {},
   "outputs": [],
   "source": [
    "def hours ():\n",
    "    print ('Open 9-5 daily')"
   ]
  },
  {
   "cell_type": "markdown",
   "metadata": {},
   "source": [
    "PS C:\\Users\\tiche\\OneDrive\\Desktop\\MO$program> python\n",
    "Python 3.12.2 (tags/v3.12.2:6abddd9, Feb  6 2024, 21:26:36) [MSC v.1937 64 bit (AMD64)] on win32\n",
    "Type \"help\", \"copyright\", \"credits\" or \"license\" for more information.\n",
    ">>> import zoo as menagerie\n",
    ">>> menagerie.hours()\n",
    "Open 9-5 daily\n",
    ">>> from zoo import hours\n",
    ">>> hours()\n",
    "Open 9-5 daily\n",
    ">>> from zoo import hours as info\n",
    ">>> info()\n",
    "Open 9-5 daily\n",
    ">>>\n",
    " *  History restored \n",
    "\n",
    "PS C:\\Users\\tiche\\OneDrive\\Desktop\\MO$program> "
   ]
  }
 ],
 "metadata": {
  "language_info": {
   "name": "python"
  }
 },
 "nbformat": 4,
 "nbformat_minor": 2
}
